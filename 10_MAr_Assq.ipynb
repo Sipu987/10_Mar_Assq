{
 "cells": [
  {
   "cell_type": "markdown",
   "id": "3316652c",
   "metadata": {},
   "source": [
    "Ans.1:-    \n",
    "Estimation statistics is study of smaples parameters to determine the popuplation parameters. Estimates are two types. Point Estimate and Interval Estimates.\n",
    "Point estimate is the single value of sample statitics used to define population parameters. Ex - Sample mean is used to estimate populaation mean. Interval Estimate is range of values of sample statitics where population parameters lies."
   ]
  },
  {
   "cell_type": "code",
   "execution_count": 32,
   "id": "790b034a",
   "metadata": {},
   "outputs": [],
   "source": [
    "#Ans.2:-\n",
    "import scipy.stats as stat\n",
    "import numpy as np"
   ]
  },
  {
   "cell_type": "code",
   "execution_count": 5,
   "id": "52b5e2e9",
   "metadata": {},
   "outputs": [],
   "source": [
    "p = np.random.normal(50,10,1000)\n",
    "s = np.random.choice(p,10)"
   ]
  },
  {
   "cell_type": "code",
   "execution_count": 13,
   "id": "f5f43453",
   "metadata": {},
   "outputs": [],
   "source": [
    "sd = s.std()\n",
    "s_mean = s.mean()"
   ]
  },
  {
   "cell_type": "code",
   "execution_count": 15,
   "id": "a408afd8",
   "metadata": {},
   "outputs": [],
   "source": [
    "rest_p_mean = sd + s_mean\n",
    "lest_p_mean = sd - s_mean"
   ]
  },
  {
   "cell_type": "code",
   "execution_count": 18,
   "id": "0272ae58",
   "metadata": {},
   "outputs": [
    {
     "name": "stdout",
     "output_type": "stream",
     "text": [
      "Estimated population mean is between 64.75696569832202 and -41.53397215993116 \n"
     ]
    }
   ],
   "source": [
    "print(\"Estimated population mean is between {} and {} \".format(rest_p_mean,lest_p_mean))"
   ]
  },
  {
   "cell_type": "code",
   "execution_count": 17,
   "id": "2547dc88",
   "metadata": {},
   "outputs": [
    {
     "data": {
      "text/plain": [
       "50.078329434784884"
      ]
     },
     "execution_count": 17,
     "metadata": {},
     "output_type": "execute_result"
    }
   ],
   "source": [
    "p_mean = p.mean()\n",
    "p_mean"
   ]
  },
  {
   "cell_type": "markdown",
   "id": "ed276558",
   "metadata": {},
   "source": [
    "Ans.3 :-    \n",
    "Hypothesis Testing is the process of statistical annalysis used to determine behavior of population by analysing smaple data. It's part of Infertential statisstics. It used to access the pausability by using sample data. It's very complex and time taking process to collect data for entire population and find analyse the behavior. Hypothesis testing is an investigation about population parameters by using statistical analysis of sample data. We can predict population by studying the sample data. \n"
   ]
  },
  {
   "cell_type": "markdown",
   "id": "6dd8ca71",
   "metadata": {},
   "source": [
    "Ans.4 :-       \n",
    "Null Hypothesis (H0) :- Average weight of men is not greater than average weight of female college students\n",
    "Alternate Hypothesis (Ha) - Average weight of men is greater than average weight of female college students"
   ]
  },
  {
   "cell_type": "code",
   "execution_count": 27,
   "id": "5d8d6c05",
   "metadata": {},
   "outputs": [
    {
     "data": {
      "text/plain": [
       "Ttest_indResult(statistic=0.5368949876447034, pvalue=0.5979146511585878)"
      ]
     },
     "execution_count": 27,
     "metadata": {},
     "output_type": "execute_result"
    }
   ],
   "source": [
    "# Ans.5 :-\n",
    "data_1 = np.array([18,12,24,12,16,18,19,16,17,18])\n",
    "data_2 = np.array([14,19,13,18,23,21,12,16,14,11])\n",
    "st = stat.ttest_ind(data_1,data_2,equal_var=True)\n",
    "st"
   ]
  },
  {
   "cell_type": "code",
   "execution_count": null,
   "id": "3b55f822",
   "metadata": {},
   "outputs": [],
   "source": []
  },
  {
   "cell_type": "markdown",
   "id": "ab64a27c",
   "metadata": {},
   "source": [
    "Ans.6:-    \n",
    "In a school, average score of student is 160 and standard deviation of 10. As per study, it found that average score of 50 students is greater than 170. \n",
    "Null Hypothesis (H0) :- Average score of student less than and equal to 170\n",
    "Alternate Hypothesis (Ha):- Average score of student greater than 170"
   ]
  },
  {
   "cell_type": "markdown",
   "id": "a23216f8",
   "metadata": {},
   "source": [
    "Ans.7:-     \n",
    "Steps for Hypothesis Test:-   \n",
    "#i. State Null hypothesis   \n",
    "#ii. State Alternate Hypothesis  \n",
    "#iii. Draw graph and set alpha level, normally 5%   \n",
    "#iv. Find out rejection area  \n",
    "#v. Find out z value   \n",
    "#vi. Compare z-value as per rejection area"
   ]
  },
  {
   "cell_type": "markdown",
   "id": "7a865f19",
   "metadata": {},
   "source": [
    "Ans.8:-     \n",
    "p value is a statistical measurement use to validate hypothesis against the observe data. Lower the p value is higher statistical significancs of the observed difference. p value of 0.5 or, lower is greater statistical significance."
   ]
  },
  {
   "cell_type": "code",
   "execution_count": 22,
   "id": "e6bfdf7e",
   "metadata": {},
   "outputs": [
    {
     "data": {
      "image/png": "[encoded data removed]",
      "text/plain": [
       "<Figure size 432x288 with 1 Axes>"
      ]
     },
     "metadata": {
      "needs_background": "light"
     },
     "output_type": "display_data"
    }
   ],
   "source": [
    "# Ans.9 \n",
    "from scipy.stats import t\n",
    "import matplotlib.pyplot as plt\n",
    "x = t.rvs(df=10, size=1000)\n",
    "plt.hist(x, bins = 100)\n",
    "plt.show()"
   ]
  },
  {
   "cell_type": "markdown",
   "id": "72970b47",
   "metadata": {},
   "source": []
  },
  {
   "cell_type": "markdown",
   "id": "ce7536a3",
   "metadata": {},
   "source": [
    "Ans. 11      \n",
    "Student T distribution is probability distribution which is used to calculate population parameters when sample size in less. It looks same like normal distributioon but tail is little flatter. when sample size increses, it looks smae like normal distribution. We use t-distribution when smaple size is less than 30."
   ]
  },
  {
   "cell_type": "markdown",
   "id": "567c6aa8",
   "metadata": {},
   "source": [
    "Ans. 12      \n",
    "T-statitics is part of inferential statistics. We used t-test to validate the hypothesis. T-test is used when population mean is not known and sample size is less than 30. \n",
    "\n",
    "t = (mean(s1) - mean(s2))/s/sqrt(n)\n",
    "s1 = sample 1\n",
    "s2 = sample 2\n",
    "s = sample standard deviation\n",
    "n = sample size"
   ]
  },
  {
   "cell_type": "code",
   "execution_count": 30,
   "id": "b61f8799",
   "metadata": {},
   "outputs": [
    {
     "name": "stdout",
     "output_type": "stream",
     "text": [
      "Average daily revenue falls in berween 353.91 and 646.09.\n"
     ]
    }
   ],
   "source": [
    "# Ans.13     \n",
    "s = 500\n",
    "sd = 50\n",
    "n = 50\n",
    "\n",
    "conf_inter = .95\n",
    "alpha = .05\n",
    "deg_fre = n-1\n",
    "# Standard error\n",
    "stand_err = s/(deg_fre)**.5\n",
    "# t value for alpha/2 = .025 and degree of freedom 29.\n",
    "t_value = stat.t.ppf(1-.025, 29)\n",
    "# Margin of error E\n",
    "E = stand_err*t_value\n",
    "lower_bound = round(s - E,2)\n",
    "upper_bound = round(s + E,2)\n",
    "print(\"Average daily revenue falls in berween {} and {}.\". format(lower_bound, upper_bound))"
   ]
  },
  {
   "cell_type": "code",
   "execution_count": 40,
   "id": "b150096a",
   "metadata": {},
   "outputs": [
    {
     "name": "stdout",
     "output_type": "stream",
     "text": [
      "Accept null Hypothesis\n"
     ]
    }
   ],
   "source": [
    "# Ans 14\n",
    "p_mean = 10\n",
    "s_mean = 8\n",
    "n = 100\n",
    "sd = 3\n",
    "\n",
    "conf_inter = .95\n",
    "alpha = .05\n",
    "# Null hypothesis: mu_zero is 10\n",
    "# Alternate hypothesis: mu_one is not equal to 10\n",
    "z_right = 1.96\n",
    "z_left = -1.96\n",
    "z = (s_mean - p_mean)/(sd*(n)**.5)\n",
    "if z > 1.96 or  z < -1.96:\n",
    "    print('Reject null Hypothesis')\n",
    "else: \n",
    "    print('Accept null Hypothesis')"
   ]
  },
  {
   "cell_type": "code",
   "execution_count": null,
   "id": "f6e35842",
   "metadata": {},
   "outputs": [],
   "source": [
    "# Drug will not decease blood pressure by 10 mg. It might\n",
    "# be decease blood pressure by greater or less than 10 mg."
   ]
  },
  {
   "cell_type": "code",
   "execution_count": 19,
   "id": "a7f5865a",
   "metadata": {},
   "outputs": [
    {
     "name": "stdout",
     "output_type": "stream",
     "text": [
      "Accept null Hypothesis\n"
     ]
    }
   ],
   "source": [
    "# Ans 15.\n",
    "p_mean = 5\n",
    "s_mean = 4.8\n",
    "n = 25\n",
    "p_sd = .5\n",
    "\n",
    "conf_inter = .99\n",
    "alpha = .01\n",
    "# Null hypothesis: mu_zero is 5\n",
    "# Alternate hypothesis: mu_one is not equal to 5\n",
    "z_right = 2.58\n",
    "z_left = -2.58\n",
    "z = (s_mean - p_mean)/(p_sd*(n)**.5)\n",
    "if z > 2.58 or  z < -2.58:\n",
    "    print('Reject null Hypothesis')\n",
    "else: \n",
    "    print('Accept null Hypothesis')"
   ]
  },
  {
   "cell_type": "code",
   "execution_count": 3,
   "id": "e8c633f7",
   "metadata": {},
   "outputs": [],
   "source": [
    "# Weight is not less than 5 pound"
   ]
  },
  {
   "cell_type": "code",
   "execution_count": 11,
   "id": "8e3d890c",
   "metadata": {},
   "outputs": [],
   "source": [
    "#16\n",
    "n1=30\n",
    "mean1 = 80\n",
    "s1 = 10\n",
    "\n",
    "n2=40\n",
    "mean2 = 75\n",
    "s2 = 8\n",
    "\n",
    "alpha = .01\n",
    "conf_inter = .99\n",
    "# Null hypothesis: Population mean for both sample is equal\n",
    "# Alternate hypothesis: Population mean for both sample is not equal\n",
    "z_right = 2.58\n",
    "z_left = -2.58"
   ]
  },
  {
   "cell_type": "code",
   "execution_count": 20,
   "id": "d60d9b1a",
   "metadata": {},
   "outputs": [
    {
     "data": {
      "text/plain": [
       "2.2511258444537408"
      ]
     },
     "execution_count": 20,
     "metadata": {},
     "output_type": "execute_result"
    }
   ],
   "source": [
    "z1 = (mean1 - mean2)/((s1**2/n1)+(s2**2/n2))**.5\n",
    "z1"
   ]
  },
  {
   "cell_type": "code",
   "execution_count": 21,
   "id": "20735941",
   "metadata": {},
   "outputs": [
    {
     "name": "stdout",
     "output_type": "stream",
     "text": [
      "Accept null Hypothesis\n"
     ]
    }
   ],
   "source": [
    "if z1 > 2.58 or  z1 < -2.58:\n",
    "    print('Reject null Hypothesis')\n",
    "else: \n",
    "    print('Accept null Hypothesis')"
   ]
  },
  {
   "cell_type": "code",
   "execution_count": 22,
   "id": "52945ec1",
   "metadata": {},
   "outputs": [],
   "source": [
    "# Population mean for both sample is equal"
   ]
  },
  {
   "cell_type": "code",
   "execution_count": 57,
   "id": "c15edbf2",
   "metadata": {},
   "outputs": [],
   "source": [
    "#17.\n",
    "n3 = 50\n",
    "s3 = 4\n",
    "sd3 = 1.5\n",
    "\n",
    "alpha = .01\n",
    "conf_inter = .99\n",
    "z_right = 2.58\n",
    "z_left = -2.58"
   ]
  },
  {
   "cell_type": "code",
   "execution_count": 60,
   "id": "7a58e715",
   "metadata": {},
   "outputs": [
    {
     "data": {
      "text/plain": [
       "0.21213203435596426"
      ]
     },
     "execution_count": 60,
     "metadata": {},
     "output_type": "execute_result"
    }
   ],
   "source": [
    "# Standard error\n",
    "stand_err = sd3/(n3)**.5\n",
    "stand_err"
   ]
  },
  {
   "cell_type": "code",
   "execution_count": 61,
   "id": "afc69335",
   "metadata": {},
   "outputs": [
    {
     "data": {
      "text/plain": [
       "2.5758293035489004"
      ]
     },
     "execution_count": 61,
     "metadata": {},
     "output_type": "execute_result"
    }
   ],
   "source": [
    "z_value = stat.norm.ppf(1-.005)\n",
    "z_value"
   ]
  },
  {
   "cell_type": "code",
   "execution_count": 64,
   "id": "0bff41ba",
   "metadata": {},
   "outputs": [
    {
     "name": "stdout",
     "output_type": "stream",
     "text": [
      "Population in berween 3.45 and 4.55.\n"
     ]
    }
   ],
   "source": [
    "E = stand_err*z_value\n",
    "lower_bound = round(s - E,2)\n",
    "upper_bound = round(s + E,2)\n",
    "print(\"Population in berween {} and {}.\". format(lower_bound, upper_bound))"
   ]
  },
  {
   "cell_type": "code",
   "execution_count": null,
   "id": "72741e03",
   "metadata": {},
   "outputs": [],
   "source": []
  },
  {
   "cell_type": "code",
   "execution_count": null,
   "id": "acff0cd7",
   "metadata": {},
   "outputs": [],
   "source": []
  }
 ],
 "metadata": {
  "kernelspec": {
   "display_name": "Python 3",
   "language": "python",
   "name": "python3"
  },
  "language_info": {
   "codemirror_mode": {
    "name": "ipython",
    "version": 3
   },
   "file_extension": ".py",
   "mimetype": "text/x-python",
   "name": "python",
   "nbconvert_exporter": "python",
   "pygments_lexer": "ipython3",
   "version": "3.8.8"
  }
 },
 "nbformat": 4,
 "nbformat_minor": 5
}
